{
 "metadata": {
  "name": ""
 },
 "nbformat": 3,
 "nbformat_minor": 0,
 "worksheets": [
  {
   "cells": [
    {
     "cell_type": "code",
     "collapsed": false,
     "input": [
      "import pandas as pd\n",
      "import datetime\n",
      "import numpy as np\n",
      "import matplotlib.pyplot as plt\n",
      "%matplotlib inline"
     ],
     "language": "python",
     "metadata": {},
     "outputs": [],
     "prompt_number": 1
    },
    {
     "cell_type": "code",
     "collapsed": false,
     "input": [
      "# Read data\n",
      "nov= pd.read_csv('../Data/Nov.csv',';')\n",
      "dec= pd.read_csv('../Data/Dec.csv',';')\n",
      "jan= pd.read_csv('../Data/Jan.csv',';')\n",
      "feb= pd.read_csv('../Data/Feb.csv',';')\n",
      "#\n",
      "df= pd.concat([nov,dec,jan,feb]).reset_index().drop('index',1)"
     ],
     "language": "python",
     "metadata": {},
     "outputs": [],
     "prompt_number": 2
    },
    {
     "cell_type": "code",
     "collapsed": false,
     "input": [
      "df.head()"
     ],
     "language": "python",
     "metadata": {},
     "outputs": [
      {
       "html": [
        "<div style=\"max-height:1000px;max-width:1500px;overflow:auto;\">\n",
        "<table border=\"1\" class=\"dataframe\">\n",
        "  <thead>\n",
        "    <tr style=\"text-align: right;\">\n",
        "      <th></th>\n",
        "      <th>DateTime</th>\n",
        "      <th>CustID</th>\n",
        "      <th>AgeCode</th>\n",
        "      <th>AreaCode</th>\n",
        "      <th>ProdClass</th>\n",
        "      <th>ProdID</th>\n",
        "      <th>Amount</th>\n",
        "      <th>Asset</th>\n",
        "      <th>Price</th>\n",
        "    </tr>\n",
        "  </thead>\n",
        "  <tbody>\n",
        "    <tr>\n",
        "      <th>0</th>\n",
        "      <td>2000-11-01 00:00:00</td>\n",
        "      <td>46855</td>\n",
        "      <td>D</td>\n",
        "      <td>E</td>\n",
        "      <td>110411</td>\n",
        "      <td>4710085120468</td>\n",
        "      <td>3</td>\n",
        "      <td>51</td>\n",
        "      <td>57</td>\n",
        "    </tr>\n",
        "    <tr>\n",
        "      <th>1</th>\n",
        "      <td>2000-11-01 00:00:00</td>\n",
        "      <td>539166</td>\n",
        "      <td>E</td>\n",
        "      <td>E</td>\n",
        "      <td>130315</td>\n",
        "      <td>4714981010038</td>\n",
        "      <td>2</td>\n",
        "      <td>56</td>\n",
        "      <td>48</td>\n",
        "    </tr>\n",
        "    <tr>\n",
        "      <th>2</th>\n",
        "      <td>2000-11-01 00:00:00</td>\n",
        "      <td>663373</td>\n",
        "      <td>F</td>\n",
        "      <td>E</td>\n",
        "      <td>110217</td>\n",
        "      <td>4710265847666</td>\n",
        "      <td>1</td>\n",
        "      <td>180</td>\n",
        "      <td>135</td>\n",
        "    </tr>\n",
        "    <tr>\n",
        "      <th>3</th>\n",
        "      <td>2000-11-01 00:00:00</td>\n",
        "      <td>340625</td>\n",
        "      <td>A</td>\n",
        "      <td>E</td>\n",
        "      <td>110411</td>\n",
        "      <td>4710085120697</td>\n",
        "      <td>1</td>\n",
        "      <td>17</td>\n",
        "      <td>24</td>\n",
        "    </tr>\n",
        "    <tr>\n",
        "      <th>4</th>\n",
        "      <td>2000-11-01 00:00:00</td>\n",
        "      <td>236645</td>\n",
        "      <td>D</td>\n",
        "      <td>H</td>\n",
        "      <td>712901</td>\n",
        "      <td>8999002568972</td>\n",
        "      <td>2</td>\n",
        "      <td>128</td>\n",
        "      <td>170</td>\n",
        "    </tr>\n",
        "  </tbody>\n",
        "</table>\n",
        "</div>"
       ],
       "metadata": {},
       "output_type": "pyout",
       "prompt_number": 3,
       "text": [
        "              DateTime  CustID AgeCode AreaCode  ProdClass         ProdID  \\\n",
        "0  2000-11-01 00:00:00   46855      D        E      110411  4710085120468   \n",
        "1  2000-11-01 00:00:00  539166      E        E      130315  4714981010038   \n",
        "2  2000-11-01 00:00:00  663373      F        E      110217  4710265847666   \n",
        "3  2000-11-01 00:00:00  340625      A        E      110411  4710085120697   \n",
        "4  2000-11-01 00:00:00  236645      D        H      712901  8999002568972   \n",
        "\n",
        "   Amount  Asset  Price  \n",
        "0       3     51     57  \n",
        "1       2     56     48  \n",
        "2       1    180    135  \n",
        "3       1     17     24  \n",
        "4       2    128    170  "
       ]
      }
     ],
     "prompt_number": 3
    },
    {
     "cell_type": "code",
     "collapsed": false,
     "input": [
      "# Convert datetime string to python date\n",
      "Date= []\n",
      "DateStr= [str(i[0:10]) for i in df.DateTime]\n",
      "for d in DateStr:\n",
      "    Date.append( datetime.datetime.strptime(d, \"%Y-%m-%d\").date() )\n",
      "df['Date']= Date\n",
      "df= df.drop('DateTime',1)\n",
      "df.head()"
     ],
     "language": "python",
     "metadata": {},
     "outputs": [
      {
       "html": [
        "<div style=\"max-height:1000px;max-width:1500px;overflow:auto;\">\n",
        "<table border=\"1\" class=\"dataframe\">\n",
        "  <thead>\n",
        "    <tr style=\"text-align: right;\">\n",
        "      <th></th>\n",
        "      <th>CustID</th>\n",
        "      <th>AgeCode</th>\n",
        "      <th>AreaCode</th>\n",
        "      <th>ProdClass</th>\n",
        "      <th>ProdID</th>\n",
        "      <th>Amount</th>\n",
        "      <th>Asset</th>\n",
        "      <th>Price</th>\n",
        "      <th>Date</th>\n",
        "    </tr>\n",
        "  </thead>\n",
        "  <tbody>\n",
        "    <tr>\n",
        "      <th>0</th>\n",
        "      <td>46855</td>\n",
        "      <td>D</td>\n",
        "      <td>E</td>\n",
        "      <td>110411</td>\n",
        "      <td>4710085120468</td>\n",
        "      <td>3</td>\n",
        "      <td>51</td>\n",
        "      <td>57</td>\n",
        "      <td>2000-11-01</td>\n",
        "    </tr>\n",
        "    <tr>\n",
        "      <th>1</th>\n",
        "      <td>539166</td>\n",
        "      <td>E</td>\n",
        "      <td>E</td>\n",
        "      <td>130315</td>\n",
        "      <td>4714981010038</td>\n",
        "      <td>2</td>\n",
        "      <td>56</td>\n",
        "      <td>48</td>\n",
        "      <td>2000-11-01</td>\n",
        "    </tr>\n",
        "    <tr>\n",
        "      <th>2</th>\n",
        "      <td>663373</td>\n",
        "      <td>F</td>\n",
        "      <td>E</td>\n",
        "      <td>110217</td>\n",
        "      <td>4710265847666</td>\n",
        "      <td>1</td>\n",
        "      <td>180</td>\n",
        "      <td>135</td>\n",
        "      <td>2000-11-01</td>\n",
        "    </tr>\n",
        "    <tr>\n",
        "      <th>3</th>\n",
        "      <td>340625</td>\n",
        "      <td>A</td>\n",
        "      <td>E</td>\n",
        "      <td>110411</td>\n",
        "      <td>4710085120697</td>\n",
        "      <td>1</td>\n",
        "      <td>17</td>\n",
        "      <td>24</td>\n",
        "      <td>2000-11-01</td>\n",
        "    </tr>\n",
        "    <tr>\n",
        "      <th>4</th>\n",
        "      <td>236645</td>\n",
        "      <td>D</td>\n",
        "      <td>H</td>\n",
        "      <td>712901</td>\n",
        "      <td>8999002568972</td>\n",
        "      <td>2</td>\n",
        "      <td>128</td>\n",
        "      <td>170</td>\n",
        "      <td>2000-11-01</td>\n",
        "    </tr>\n",
        "  </tbody>\n",
        "</table>\n",
        "</div>"
       ],
       "metadata": {},
       "output_type": "pyout",
       "prompt_number": 4,
       "text": [
        "   CustID AgeCode AreaCode  ProdClass         ProdID  Amount  Asset  Price  \\\n",
        "0   46855      D        E      110411  4710085120468       3     51     57   \n",
        "1  539166      E        E      130315  4714981010038       2     56     48   \n",
        "2  663373      F        E      110217  4710265847666       1    180    135   \n",
        "3  340625      A        E      110411  4710085120697       1     17     24   \n",
        "4  236645      D        H      712901  8999002568972       2    128    170   \n",
        "\n",
        "         Date  \n",
        "0  2000-11-01  \n",
        "1  2000-11-01  \n",
        "2  2000-11-01  \n",
        "3  2000-11-01  \n",
        "4  2000-11-01  "
       ]
      }
     ],
     "prompt_number": 4
    },
    {
     "cell_type": "code",
     "collapsed": false,
     "input": [
      "# Check for sales\n",
      "item= df.groupby(['ProdID']).Price.agg(np.max)\n",
      "maxPrice= np.array(item[df.ProdID])\n",
      "df['maxPrice']= maxPrice"
     ],
     "language": "python",
     "metadata": {},
     "outputs": [],
     "prompt_number": 5
    },
    {
     "cell_type": "code",
     "collapsed": false,
     "input": [
      "#reduction= np.array(item[df[' ProdID']]) - df[' Price']\n",
      "#df[df[' ProdID'] == 4710085120468]"
     ],
     "language": "python",
     "metadata": {},
     "outputs": [],
     "prompt_number": 6
    },
    {
     "cell_type": "code",
     "collapsed": false,
     "input": [
      "df[ df.maxPrice - df.Price < 0 ]"
     ],
     "language": "python",
     "metadata": {},
     "outputs": [
      {
       "html": [
        "<div style=\"max-height:1000px;max-width:1500px;overflow:auto;\">\n",
        "<table border=\"1\" class=\"dataframe\">\n",
        "  <thead>\n",
        "    <tr style=\"text-align: right;\">\n",
        "      <th></th>\n",
        "      <th>CustID</th>\n",
        "      <th>AgeCode</th>\n",
        "      <th>AreaCode</th>\n",
        "      <th>ProdClass</th>\n",
        "      <th>ProdID</th>\n",
        "      <th>Amount</th>\n",
        "      <th>Asset</th>\n",
        "      <th>Price</th>\n",
        "      <th>Date</th>\n",
        "      <th>maxPrice</th>\n",
        "    </tr>\n",
        "  </thead>\n",
        "  <tbody>\n",
        "  </tbody>\n",
        "</table>\n",
        "</div>"
       ],
       "metadata": {},
       "output_type": "pyout",
       "prompt_number": 7,
       "text": [
        "Empty DataFrame\n",
        "Columns: [CustID, AgeCode, AreaCode, ProdClass, ProdID, Amount, Asset, Price, Date, maxPrice]\n",
        "Index: []"
       ]
      }
     ],
     "prompt_number": 7
    },
    {
     "cell_type": "code",
     "collapsed": false,
     "input": [
      "plt.plot(df.Price,df.maxPrice,'b.')"
     ],
     "language": "python",
     "metadata": {},
     "outputs": [
      {
       "metadata": {},
       "output_type": "pyout",
       "prompt_number": 8,
       "text": [
        "[<matplotlib.lines.Line2D at 0x112cb02d0>]"
       ]
      },
      {
       "metadata": {},
       "output_type": "display_data",
       "png": "[encoded data removed]",
       "text": [
        "<matplotlib.figure.Figure at 0x10c42f090>"
       ]
      }
     ],
     "prompt_number": 8
    },
    {
     "cell_type": "code",
     "collapsed": false,
     "input": [],
     "language": "python",
     "metadata": {},
     "outputs": []
    }
   ],
   "metadata": {}
  }
 ]
}